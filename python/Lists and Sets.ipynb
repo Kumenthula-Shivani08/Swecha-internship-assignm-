{
 "cells": [
  {
   "cell_type": "code",
   "execution_count": 14,
   "id": "cec48344",
   "metadata": {},
   "outputs": [
    {
     "name": "stdout",
     "output_type": "stream",
     "text": [
      "Extended List :  [123, 'xyz', 'hbh', 'abc', 200, 2009, 'tom']\n",
      "Updated List :  [123, 'xyz', 'hbh', 'abc', 200, 2009, 'tom']\n",
      "Index for xyz :  1\n"
     ]
    }
   ],
   "source": [
    "a = [123, 'xyz', 'hbh', 'abc'];\n",
    "a.append( 200 );\n",
    "b = [2009, 'tom'];\n",
    "a.extend(b)\n",
    "print(\"Extended List : \", a) \n",
    "print(\"Updated List : \", a)\n",
    "print( \"Index for xyz : \", a.index( 'xyz' ) )\n"
   ]
  },
  {
   "cell_type": "code",
   "execution_count": 22,
   "id": "bd0adce1",
   "metadata": {},
   "outputs": [
    {
     "name": "stdout",
     "output_type": "stream",
     "text": [
      "min value element :  200\n",
      "min value element :  700\n",
      " list length :  3\n"
     ]
    }
   ],
   "source": [
    "list1=[456, 700, 200]\n",
    "print (\"min value element : \", min(list1))\n",
    "print (\"min value element : \", max(list1))\n",
    "list2 = [123, 'xyz', 'zara']\n",
    "print( \" list length : \", len(list2))\n"
   ]
  },
  {
   "cell_type": "code",
   "execution_count": 25,
   "id": "82927cae",
   "metadata": {},
   "outputs": [
    {
     "name": "stdout",
     "output_type": "stream",
     "text": [
      "{10, 11}\n",
      "{0, 2, 10, 11, 78, 79, 56}\n",
      "False\n"
     ]
    }
   ],
   "source": [
    "a={10,11,0,79,56}\n",
    "b={2,78,11,10}\n",
    "ab=a.intersection(b)\n",
    "bc=a.union(b)\n",
    "ba=a.issuperset(b)\n",
    "print(ab)\n",
    "print(bc)\n",
    "print(ba)"
   ]
  },
  {
   "cell_type": "code",
   "execution_count": null,
   "id": "dd440675",
   "metadata": {},
   "outputs": [],
   "source": []
  }
 ],
 "metadata": {
  "kernelspec": {
   "display_name": "Python 3 (ipykernel)",
   "language": "python",
   "name": "python3"
  },
  "language_info": {
   "codemirror_mode": {
    "name": "ipython",
    "version": 3
   },
   "file_extension": ".py",
   "mimetype": "text/x-python",
   "name": "python",
   "nbconvert_exporter": "python",
   "pygments_lexer": "ipython3",
   "version": "3.11.3"
  }
 },
 "nbformat": 4,
 "nbformat_minor": 5
}
