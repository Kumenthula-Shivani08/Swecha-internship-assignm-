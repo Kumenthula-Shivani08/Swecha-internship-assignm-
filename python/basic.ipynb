{
 "cells": [
  {
   "cell_type": "code",
   "execution_count": 2,
   "id": "4edaa677",
   "metadata": {},
   "outputs": [
    {
     "name": "stdout",
     "output_type": "stream",
     "text": [
      "Addition is: 9\n",
      "subraction is: -1\n",
      "product is: 1024\n",
      "division is: 0.8\n",
      "module is: 4\n"
     ]
    }
   ],
   "source": [
    "a=4\n",
    "b=5\n",
    "add=a+b\n",
    "sub=a-b\n",
    "prod=a**b\n",
    "div=a/b\n",
    "mod=a%b\n",
    "print(\"Addition is:\",add)\n",
    "print(\"subraction is:\",sub)\n",
    "print(\"product is:\",prod)\n",
    "print(\"division is:\",div)\n",
    "print(\"module is:\",mod)"
   ]
  },
  {
   "cell_type": "code",
   "execution_count": 3,
   "id": "d819c32c",
   "metadata": {},
   "outputs": [
    {
     "name": "stdout",
     "output_type": "stream",
     "text": [
      "1\n"
     ]
    }
   ],
   "source": [
    "import random\n",
    "print(random.randint(0,9))"
   ]
  },
  {
   "cell_type": "code",
   "execution_count": 4,
   "id": "38004283",
   "metadata": {},
   "outputs": [
    {
     "name": "stdout",
     "output_type": "stream",
     "text": [
      "True\n"
     ]
    }
   ],
   "source": [
    "a=\"NMREC internship\"\n",
    "print(\"EC\" in a)"
   ]
  },
  {
   "cell_type": "code",
   "execution_count": null,
   "id": "d98ee502",
   "metadata": {},
   "outputs": [],
   "source": [
    "a,b,c=map(float,input().split(\"-\"))\n",
    "print(a)\n",
    "print(b)\n",
    "print(c)"
   ]
  },
  {
   "cell_type": "code",
   "execution_count": 1,
   "id": "fb9c1c44",
   "metadata": {},
   "outputs": [
    {
     "name": "stdout",
     "output_type": "stream",
     "text": [
      "enter your name:Shivani\n",
      "enter your rollno:622\n",
      "enter your college:nalla malla reddy engineering college\n",
      "enter departement:Cse(aiml)\n"
     ]
    }
   ],
   "source": [
    "Name=input(\"enter your name:\")\n",
    "rollno=input(\"enter your rollno:\")\n",
    "college=input(\"enter your college:\")\n",
    "Department=input(\"enter departement:\")"
   ]
  },
  {
   "cell_type": "code",
   "execution_count": 3,
   "id": "e84dd5b3",
   "metadata": {},
   "outputs": [
    {
     "name": "stdout",
     "output_type": "stream",
     "text": [
      "140712783111240\n",
      "140712783111272\n"
     ]
    },
    {
     "data": {
      "text/plain": [
       "False"
      ]
     },
     "execution_count": 3,
     "metadata": {},
     "output_type": "execute_result"
    }
   ],
   "source": [
    "a=10\n",
    "b=11\n",
    "print(id(a))\n",
    "print(id(b))\n",
    "a==b\n",
    "\n"
   ]
  },
  {
   "cell_type": "code",
   "execution_count": null,
   "id": "e266c7a4",
   "metadata": {},
   "outputs": [],
   "source": []
  }
 ],
 "metadata": {
  "kernelspec": {
   "display_name": "Python 3 (ipykernel)",
   "language": "python",
   "name": "python3"
  },
  "language_info": {
   "codemirror_mode": {
    "name": "ipython",
    "version": 3
   },
   "file_extension": ".py",
   "mimetype": "text/x-python",
   "name": "python",
   "nbconvert_exporter": "python",
   "pygments_lexer": "ipython3",
   "version": "3.11.3"
  }
 },
 "nbformat": 4,
 "nbformat_minor": 5
}
